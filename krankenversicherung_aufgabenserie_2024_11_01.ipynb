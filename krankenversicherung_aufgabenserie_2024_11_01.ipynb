{
 "cells": [
  {
   "cell_type": "markdown",
   "metadata": {},
   "source": [
    "# Krankenversicherung / Aufgabenserie vom 01.11.2024\n",
    "\n",
    "## 1. Rückstellungsberechnung mit Chain-Ladder\n",
    "\n",
    "Gegeben sei das folgende Abwicklungsdreieck mit den im Behandlungsmonat i angefallenen und im Abrechnugnsmonat k bezahlten Leistungen $S_{i,k}$:\n",
    "\n",
    "|                   | Abrechnungs-monat k |        |        |        |\n",
    "| ----------------- | ------------------- | ------ | ------ | ------ |\n",
    "| Behandlungs-monat | 1                   | 2      | 3      | 4      |\n",
    "| 1                 | 58000               | 276100 | 111700 | 20400  |\n",
    "| 2                 |                     | 100900 | 480319 | 194319 |\n",
    "| 3                 |                     |        | 120800 | 575050 |\n",
    "| 4                 |                     |        |        | 130900 |\n",
    "\n",
    "a) Berechnen Sie den Rückstellungsbedarf mit Hilfe des Chain-Ladder Verfahrens. \n",
    "\n",
    "b) Angenommen in den darauffolgenden Behandlungsmonaten 5 und 6 fallen Leistungen von total 1'000'000 (Behandlungsmonat 5) bzw. 1'100'000 (Behandlungsmonat 6) an. Das Abwicklungsmuster bleibe dasselbe wie in den vorangehenden Monaten 1 bis 4. Wie viele Leistungen werden in den Abrechnungsmonaten 5 und 6 abgerechnet? \n",
    "\n",
    "c) Schildern Sie in ein paar wenigen Stichworten, wie sich Chain-Ladder nicht bloss als Algorithmus sondern auch als stochastisches Modell implementieren lässt. "
   ]
  },
  {
   "cell_type": "code",
   "execution_count": 1,
   "metadata": {
    "vscode": {
     "languageId": "r"
    }
   },
   "outputs": [
    {
     "name": "stderr",
     "output_type": "stream",
     "text": [
      "Warning message:\n",
      "\"Paket 'tidyverse' wurde unter R Version 4.2.3 erstellt\"\n",
      "Warning message:\n",
      "\"Paket 'ggplot2' wurde unter R Version 4.2.3 erstellt\"\n",
      "Warning message:\n",
      "\"Paket 'tibble' wurde unter R Version 4.2.3 erstellt\"\n",
      "Warning message:\n",
      "\"Paket 'tidyr' wurde unter R Version 4.2.3 erstellt\"\n",
      "Warning message:\n",
      "\"Paket 'readr' wurde unter R Version 4.2.3 erstellt\"\n",
      "Warning message:\n",
      "\"Paket 'purrr' wurde unter R Version 4.2.3 erstellt\"\n",
      "Warning message:\n",
      "\"Paket 'dplyr' wurde unter R Version 4.2.3 erstellt\"\n",
      "Warning message:\n",
      "\"Paket 'stringr' wurde unter R Version 4.2.3 erstellt\"\n",
      "Warning message:\n",
      "\"Paket 'forcats' wurde unter R Version 4.2.3 erstellt\"\n",
      "Warning message:\n",
      "\"Paket 'lubridate' wurde unter R Version 4.2.3 erstellt\"\n",
      "── \u001b[1mAttaching core tidyverse packages\u001b[22m ──────────────────────── tidyverse 2.0.0 ──\n",
      "\u001b[32m✔\u001b[39m \u001b[34mdplyr    \u001b[39m 1.1.4     \u001b[32m✔\u001b[39m \u001b[34mreadr    \u001b[39m 2.1.5\n",
      "\u001b[32m✔\u001b[39m \u001b[34mforcats  \u001b[39m 1.0.0     \u001b[32m✔\u001b[39m \u001b[34mstringr  \u001b[39m 1.5.1\n",
      "\u001b[32m✔\u001b[39m \u001b[34mggplot2  \u001b[39m 3.5.1     \u001b[32m✔\u001b[39m \u001b[34mtibble   \u001b[39m 3.2.1\n",
      "\u001b[32m✔\u001b[39m \u001b[34mlubridate\u001b[39m 1.9.3     \u001b[32m✔\u001b[39m \u001b[34mtidyr    \u001b[39m 1.3.1\n",
      "\u001b[32m✔\u001b[39m \u001b[34mpurrr    \u001b[39m 1.0.2     \n",
      "── \u001b[1mConflicts\u001b[22m ────────────────────────────────────────── tidyverse_conflicts() ──\n",
      "\u001b[31m✖\u001b[39m \u001b[34mdplyr\u001b[39m::\u001b[32mfilter()\u001b[39m masks \u001b[34mstats\u001b[39m::filter()\n",
      "\u001b[31m✖\u001b[39m \u001b[34mdplyr\u001b[39m::\u001b[32mlag()\u001b[39m    masks \u001b[34mstats\u001b[39m::lag()\n",
      "\u001b[36mℹ\u001b[39m Use the conflicted package (\u001b[3m\u001b[34m<http://conflicted.r-lib.org/>\u001b[39m\u001b[23m) to force all conflicts to become errors\n"
     ]
    },
    {
     "data": {
      "text/html": [
       "<table class=\"dataframe\">\n",
       "<caption>A matrix: 4 × 4 of type dbl</caption>\n",
       "<tbody>\n",
       "\t<tr><td>58000</td><td>276100</td><td>111700</td><td> 20400</td></tr>\n",
       "\t<tr><td>    0</td><td>100900</td><td>480319</td><td>194319</td></tr>\n",
       "\t<tr><td>    0</td><td>     0</td><td>120800</td><td>575050</td></tr>\n",
       "\t<tr><td>    0</td><td>     0</td><td>     0</td><td>130900</td></tr>\n",
       "</tbody>\n",
       "</table>\n"
      ],
      "text/latex": [
       "A matrix: 4 × 4 of type dbl\n",
       "\\begin{tabular}{llll}\n",
       "\t 58000 & 276100 & 111700 &  20400\\\\\n",
       "\t     0 & 100900 & 480319 & 194319\\\\\n",
       "\t     0 &      0 & 120800 & 575050\\\\\n",
       "\t     0 &      0 &      0 & 130900\\\\\n",
       "\\end{tabular}\n"
      ],
      "text/markdown": [
       "\n",
       "A matrix: 4 × 4 of type dbl\n",
       "\n",
       "| 58000 | 276100 | 111700 |  20400 |\n",
       "|     0 | 100900 | 480319 | 194319 |\n",
       "|     0 |      0 | 120800 | 575050 |\n",
       "|     0 |      0 |      0 | 130900 |\n",
       "\n"
      ],
      "text/plain": [
       "     [,1]  [,2]   [,3]   [,4]  \n",
       "[1,] 58000 276100 111700  20400\n",
       "[2,]     0 100900 480319 194319\n",
       "[3,]     0      0 120800 575050\n",
       "[4,]     0      0      0 130900"
      ]
     },
     "metadata": {},
     "output_type": "display_data"
    }
   ],
   "source": [
    "# Daten laden\n",
    "library(tidyverse)\n",
    "\n",
    "tria_beh_mon <- c(\n",
    "\tc(58000, 276100, 111700, 20400),\n",
    "\tc(0, 100900, 480319, 194319),\n",
    "\tc(0, 0, 120800, 575050),\n",
    "\tc(0, 0, 0, 130900)\n",
    ") |>\n",
    "\tmatrix(nrow = 4) |>\n",
    "\tt()\n",
    "\n",
    "tria_beh_mon"
   ]
  },
  {
   "cell_type": "code",
   "execution_count": 2,
   "metadata": {
    "vscode": {
     "languageId": "r"
    }
   },
   "outputs": [
    {
     "data": {
      "text/html": [
       "<table class=\"dataframe\">\n",
       "<caption>A matrix: 4 × 4 of type dbl</caption>\n",
       "<tbody>\n",
       "\t<tr><td> 58000</td><td>276100</td><td>111700</td><td>20400</td></tr>\n",
       "\t<tr><td>100900</td><td>480319</td><td>194319</td><td>   NA</td></tr>\n",
       "\t<tr><td>120800</td><td>575050</td><td>    NA</td><td>   NA</td></tr>\n",
       "\t<tr><td>130900</td><td>    NA</td><td>    NA</td><td>   NA</td></tr>\n",
       "</tbody>\n",
       "</table>\n"
      ],
      "text/latex": [
       "A matrix: 4 × 4 of type dbl\n",
       "\\begin{tabular}{llll}\n",
       "\t  58000 & 276100 & 111700 & 20400\\\\\n",
       "\t 100900 & 480319 & 194319 &    NA\\\\\n",
       "\t 120800 & 575050 &     NA &    NA\\\\\n",
       "\t 130900 &     NA &     NA &    NA\\\\\n",
       "\\end{tabular}\n"
      ],
      "text/markdown": [
       "\n",
       "A matrix: 4 × 4 of type dbl\n",
       "\n",
       "|  58000 | 276100 | 111700 | 20400 |\n",
       "| 100900 | 480319 | 194319 |    NA |\n",
       "| 120800 | 575050 |     NA |    NA |\n",
       "| 130900 |     NA |     NA |    NA |\n",
       "\n"
      ],
      "text/plain": [
       "     [,1]   [,2]   [,3]   [,4] \n",
       "[1,]  58000 276100 111700 20400\n",
       "[2,] 100900 480319 194319    NA\n",
       "[3,] 120800 575050     NA    NA\n",
       "[4,] 130900     NA     NA    NA"
      ]
     },
     "metadata": {},
     "output_type": "display_data"
    }
   ],
   "source": [
    "# In timelag-Ansicht wechseln\n",
    "tria_rel <- tria_beh_mon\n",
    "for (i in 1:nrow(tria_rel)) tria_rel[i,] <- lead(tria_rel[i,], i - 1)\n",
    "tria_rel"
   ]
  },
  {
   "cell_type": "code",
   "execution_count": 3,
   "metadata": {
    "vscode": {
     "languageId": "r"
    }
   },
   "outputs": [
    {
     "data": {
      "text/html": [
       "<table class=\"dataframe\">\n",
       "<caption>A matrix: 4 × 4 of type dbl</caption>\n",
       "<tbody>\n",
       "\t<tr><td> 58000</td><td>334100</td><td>445800</td><td>466200</td></tr>\n",
       "\t<tr><td>100900</td><td>581219</td><td>775538</td><td>    NA</td></tr>\n",
       "\t<tr><td>120800</td><td>695850</td><td>    NA</td><td>    NA</td></tr>\n",
       "\t<tr><td>130900</td><td>    NA</td><td>    NA</td><td>    NA</td></tr>\n",
       "</tbody>\n",
       "</table>\n"
      ],
      "text/latex": [
       "A matrix: 4 × 4 of type dbl\n",
       "\\begin{tabular}{llll}\n",
       "\t  58000 & 334100 & 445800 & 466200\\\\\n",
       "\t 100900 & 581219 & 775538 &     NA\\\\\n",
       "\t 120800 & 695850 &     NA &     NA\\\\\n",
       "\t 130900 &     NA &     NA &     NA\\\\\n",
       "\\end{tabular}\n"
      ],
      "text/markdown": [
       "\n",
       "A matrix: 4 × 4 of type dbl\n",
       "\n",
       "|  58000 | 334100 | 445800 | 466200 |\n",
       "| 100900 | 581219 | 775538 |     NA |\n",
       "| 120800 | 695850 |     NA |     NA |\n",
       "| 130900 |     NA |     NA |     NA |\n",
       "\n"
      ],
      "text/plain": [
       "     [,1]   [,2]   [,3]   [,4]  \n",
       "[1,]  58000 334100 445800 466200\n",
       "[2,] 100900 581219 775538     NA\n",
       "[3,] 120800 695850     NA     NA\n",
       "[4,] 130900     NA     NA     NA"
      ]
     },
     "metadata": {},
     "output_type": "display_data"
    }
   ],
   "source": [
    "# Kumulierte Ansicht\n",
    "tria_kum <- tria_rel\n",
    "for (j in 2:ncol(tria_kum)) tria_kum[,j] <- tria_kum[,j] + tria_kum[,j - 1]\n",
    "tria_kum"
   ]
  },
  {
   "cell_type": "code",
   "execution_count": 4,
   "metadata": {
    "vscode": {
     "languageId": "r"
    }
   },
   "outputs": [
    {
     "data": {
      "text/html": [
       "<style>\n",
       ".list-inline {list-style: none; margin:0; padding: 0}\n",
       ".list-inline>li {display: inline-block}\n",
       ".list-inline>li:not(:last-child)::after {content: \"\\00b7\"; padding: 0 .5ex}\n",
       "</style>\n",
       "<ol class=list-inline><li>5.76034680014301</li><li>1.33433043561862</li><li>1.04576043068641</li></ol>\n"
      ],
      "text/latex": [
       "\\begin{enumerate*}\n",
       "\\item 5.76034680014301\n",
       "\\item 1.33433043561862\n",
       "\\item 1.04576043068641\n",
       "\\end{enumerate*}\n"
      ],
      "text/markdown": [
       "1. 5.76034680014301\n",
       "2. 1.33433043561862\n",
       "3. 1.04576043068641\n",
       "\n",
       "\n"
      ],
      "text/plain": [
       "[1] 5.760347 1.334330 1.045760"
      ]
     },
     "metadata": {},
     "output_type": "display_data"
    }
   ],
   "source": [
    "# Faktoren berechnen\n",
    "tria_kum_prev <- tria_kum\n",
    "tria_kum_prev[!is.na(tria_kum_prev)] <- 1\n",
    "for (i in 1:nrow(tria_kum_prev)) tria_kum_prev[i,] <- lead(tria_kum_prev[i,], 1)\n",
    "tria_kum_prev <- tria_kum_prev * tria_kum\n",
    "\n",
    "factors <- c()\n",
    "for (j in 2:ncol(tria_kum)) {\n",
    "\tsum_prev <- sum(tria_kum_prev[,j - 1], na.rm = TRUE)\n",
    "\tsum_base <- sum(tria_kum[,j], na.rm = TRUE)\n",
    "\tfactors <- append(factors, sum_base / sum_prev)\n",
    "}\n",
    "factors"
   ]
  },
  {
   "cell_type": "code",
   "execution_count": 5,
   "metadata": {
    "vscode": {
     "languageId": "r"
    }
   },
   "outputs": [
    {
     "data": {
      "text/html": [
       "<table class=\"dataframe\">\n",
       "<caption>A matrix: 4 × 4 of type dbl</caption>\n",
       "<tbody>\n",
       "\t<tr><td> 58000</td><td>334100.0</td><td> 445800.0</td><td> 466200.0</td></tr>\n",
       "\t<tr><td>100900</td><td>581219.0</td><td> 775538.0</td><td> 811027.0</td></tr>\n",
       "\t<tr><td>120800</td><td>695850.0</td><td> 928493.8</td><td> 970982.1</td></tr>\n",
       "\t<tr><td>130900</td><td>754029.4</td><td>1006124.4</td><td>1052165.1</td></tr>\n",
       "</tbody>\n",
       "</table>\n"
      ],
      "text/latex": [
       "A matrix: 4 × 4 of type dbl\n",
       "\\begin{tabular}{llll}\n",
       "\t  58000 & 334100.0 &  445800.0 &  466200.0\\\\\n",
       "\t 100900 & 581219.0 &  775538.0 &  811027.0\\\\\n",
       "\t 120800 & 695850.0 &  928493.8 &  970982.1\\\\\n",
       "\t 130900 & 754029.4 & 1006124.4 & 1052165.1\\\\\n",
       "\\end{tabular}\n"
      ],
      "text/markdown": [
       "\n",
       "A matrix: 4 × 4 of type dbl\n",
       "\n",
       "|  58000 | 334100.0 |  445800.0 |  466200.0 |\n",
       "| 100900 | 581219.0 |  775538.0 |  811027.0 |\n",
       "| 120800 | 695850.0 |  928493.8 |  970982.1 |\n",
       "| 130900 | 754029.4 | 1006124.4 | 1052165.1 |\n",
       "\n"
      ],
      "text/plain": [
       "     [,1]   [,2]     [,3]      [,4]     \n",
       "[1,]  58000 334100.0  445800.0  466200.0\n",
       "[2,] 100900 581219.0  775538.0  811027.0\n",
       "[3,] 120800 695850.0  928493.8  970982.1\n",
       "[4,] 130900 754029.4 1006124.4 1052165.1"
      ]
     },
     "metadata": {},
     "output_type": "display_data"
    }
   ],
   "source": [
    "# Abrechnungsquadrat rechnen\n",
    "quadr_kum <- tria_kum\n",
    "for (j in 2:ncol(quadr_kum)) quadr_kum[,j] <- if_else(is.na(quadr_kum[,j]), factors[j - 1] * quadr_kum[,j - 1], quadr_kum[,j])\n",
    "quadr_kum"
   ]
  },
  {
   "cell_type": "code",
   "execution_count": 6,
   "metadata": {
    "vscode": {
     "languageId": "r"
    }
   },
   "outputs": [
    {
     "data": {
      "text/html": [
       "<table class=\"dataframe\">\n",
       "<caption>A matrix: 4 × 4 of type dbl</caption>\n",
       "<tbody>\n",
       "\t<tr><td> 58000</td><td>276100.0</td><td>111700.0</td><td>20400.00</td></tr>\n",
       "\t<tr><td>100900</td><td>480319.0</td><td>194319.0</td><td>35488.95</td></tr>\n",
       "\t<tr><td>120800</td><td>575050.0</td><td>232643.8</td><td>42488.28</td></tr>\n",
       "\t<tr><td>130900</td><td>623129.4</td><td>252095.0</td><td>46040.68</td></tr>\n",
       "</tbody>\n",
       "</table>\n"
      ],
      "text/latex": [
       "A matrix: 4 × 4 of type dbl\n",
       "\\begin{tabular}{llll}\n",
       "\t  58000 & 276100.0 & 111700.0 & 20400.00\\\\\n",
       "\t 100900 & 480319.0 & 194319.0 & 35488.95\\\\\n",
       "\t 120800 & 575050.0 & 232643.8 & 42488.28\\\\\n",
       "\t 130900 & 623129.4 & 252095.0 & 46040.68\\\\\n",
       "\\end{tabular}\n"
      ],
      "text/markdown": [
       "\n",
       "A matrix: 4 × 4 of type dbl\n",
       "\n",
       "|  58000 | 276100.0 | 111700.0 | 20400.00 |\n",
       "| 100900 | 480319.0 | 194319.0 | 35488.95 |\n",
       "| 120800 | 575050.0 | 232643.8 | 42488.28 |\n",
       "| 130900 | 623129.4 | 252095.0 | 46040.68 |\n",
       "\n"
      ],
      "text/plain": [
       "     [,1]   [,2]     [,3]     [,4]    \n",
       "[1,]  58000 276100.0 111700.0 20400.00\n",
       "[2,] 100900 480319.0 194319.0 35488.95\n",
       "[3,] 120800 575050.0 232643.8 42488.28\n",
       "[4,] 130900 623129.4 252095.0 46040.68"
      ]
     },
     "metadata": {},
     "output_type": "display_data"
    }
   ],
   "source": [
    "# nicht kumulierte Darstellung\n",
    "quadr <- quadr_kum\n",
    "for (j in 2:ncol(quadr)) quadr[,j] <- quadr_kum[,j] - quadr_kum[,j - 1]\n",
    "quadr"
   ]
  },
  {
   "cell_type": "code",
   "execution_count": 7,
   "metadata": {
    "vscode": {
     "languageId": "r"
    }
   },
   "outputs": [
    {
     "data": {
      "text/html": [
       "<table class=\"dataframe\">\n",
       "<caption>A matrix: 4 × 7 of type dbl</caption>\n",
       "<tbody>\n",
       "\t<tr><td>58000</td><td>276100</td><td>111700</td><td> 20400</td><td>       NA</td><td>       NA</td><td>      NA</td></tr>\n",
       "\t<tr><td>   NA</td><td>100900</td><td>480319</td><td>194319</td><td> 35488.95</td><td>       NA</td><td>      NA</td></tr>\n",
       "\t<tr><td>   NA</td><td>    NA</td><td>120800</td><td>575050</td><td>232643.83</td><td> 42488.28</td><td>      NA</td></tr>\n",
       "\t<tr><td>   NA</td><td>    NA</td><td>    NA</td><td>130900</td><td>623129.40</td><td>252094.98</td><td>46040.68</td></tr>\n",
       "</tbody>\n",
       "</table>\n"
      ],
      "text/latex": [
       "A matrix: 4 × 7 of type dbl\n",
       "\\begin{tabular}{lllllll}\n",
       "\t 58000 & 276100 & 111700 &  20400 &        NA &        NA &       NA\\\\\n",
       "\t    NA & 100900 & 480319 & 194319 &  35488.95 &        NA &       NA\\\\\n",
       "\t    NA &     NA & 120800 & 575050 & 232643.83 &  42488.28 &       NA\\\\\n",
       "\t    NA &     NA &     NA & 130900 & 623129.40 & 252094.98 & 46040.68\\\\\n",
       "\\end{tabular}\n"
      ],
      "text/markdown": [
       "\n",
       "A matrix: 4 × 7 of type dbl\n",
       "\n",
       "| 58000 | 276100 | 111700 |  20400 |        NA |        NA |       NA |\n",
       "|    NA | 100900 | 480319 | 194319 |  35488.95 |        NA |       NA |\n",
       "|    NA |     NA | 120800 | 575050 | 232643.83 |  42488.28 |       NA |\n",
       "|    NA |     NA |     NA | 130900 | 623129.40 | 252094.98 | 46040.68 |\n",
       "\n"
      ],
      "text/plain": [
       "     [,1]  [,2]   [,3]   [,4]   [,5]      [,6]      [,7]    \n",
       "[1,] 58000 276100 111700  20400        NA        NA       NA\n",
       "[2,]    NA 100900 480319 194319  35488.95        NA       NA\n",
       "[3,]    NA     NA 120800 575050 232643.83  42488.28       NA\n",
       "[4,]    NA     NA     NA 130900 623129.40 252094.98 46040.68"
      ]
     },
     "metadata": {},
     "output_type": "display_data"
    }
   ],
   "source": [
    "# Ansicht nach abrechnungsmonaten\n",
    "abr_mon <- cbind(quadr, matrix(NA_real_,4,3))\n",
    "for (i in 1:nrow(abr_mon)) abr_mon[i,] <- lag(abr_mon[i,], i - 1)\n",
    "abr_mon"
   ]
  },
  {
   "cell_type": "code",
   "execution_count": 9,
   "metadata": {
    "vscode": {
     "languageId": "r"
    }
   },
   "outputs": [
    {
     "data": {
      "text/html": [
       "<table class=\"dataframe\">\n",
       "<caption>A tibble: 7 × 2</caption>\n",
       "<thead>\n",
       "\t<tr><th scope=col>abrechnungsmonat</th><th scope=col>betrag</th></tr>\n",
       "\t<tr><th scope=col>&lt;chr&gt;</th><th scope=col>&lt;dbl&gt;</th></tr>\n",
       "</thead>\n",
       "<tbody>\n",
       "\t<tr><td>1</td><td> 58000.00</td></tr>\n",
       "\t<tr><td>2</td><td>377000.00</td></tr>\n",
       "\t<tr><td>3</td><td>712819.00</td></tr>\n",
       "\t<tr><td>4</td><td>920669.00</td></tr>\n",
       "\t<tr><td>5</td><td>891262.18</td></tr>\n",
       "\t<tr><td>6</td><td>294583.25</td></tr>\n",
       "\t<tr><td>7</td><td> 46040.68</td></tr>\n",
       "</tbody>\n",
       "</table>\n"
      ],
      "text/latex": [
       "A tibble: 7 × 2\n",
       "\\begin{tabular}{ll}\n",
       " abrechnungsmonat & betrag\\\\\n",
       " <chr> & <dbl>\\\\\n",
       "\\hline\n",
       "\t 1 &  58000.00\\\\\n",
       "\t 2 & 377000.00\\\\\n",
       "\t 3 & 712819.00\\\\\n",
       "\t 4 & 920669.00\\\\\n",
       "\t 5 & 891262.18\\\\\n",
       "\t 6 & 294583.25\\\\\n",
       "\t 7 &  46040.68\\\\\n",
       "\\end{tabular}\n"
      ],
      "text/markdown": [
       "\n",
       "A tibble: 7 × 2\n",
       "\n",
       "| abrechnungsmonat &lt;chr&gt; | betrag &lt;dbl&gt; |\n",
       "|---|---|\n",
       "| 1 |  58000.00 |\n",
       "| 2 | 377000.00 |\n",
       "| 3 | 712819.00 |\n",
       "| 4 | 920669.00 |\n",
       "| 5 | 891262.18 |\n",
       "| 6 | 294583.25 |\n",
       "| 7 |  46040.68 |\n",
       "\n"
      ],
      "text/plain": [
       "  abrechnungsmonat betrag   \n",
       "1 1                 58000.00\n",
       "2 2                377000.00\n",
       "3 3                712819.00\n",
       "4 4                920669.00\n",
       "5 5                891262.18\n",
       "6 6                294583.25\n",
       "7 7                 46040.68"
      ]
     },
     "metadata": {},
     "output_type": "display_data"
    },
    {
     "data": {
      "text/html": [
       "<table class=\"dataframe\">\n",
       "<caption>A tibble: 1 × 1</caption>\n",
       "<thead>\n",
       "\t<tr><th scope=col>sum(betrag)</th></tr>\n",
       "\t<tr><th scope=col>&lt;dbl&gt;</th></tr>\n",
       "</thead>\n",
       "<tbody>\n",
       "\t<tr><td>1231886</td></tr>\n",
       "</tbody>\n",
       "</table>\n"
      ],
      "text/latex": [
       "A tibble: 1 × 1\n",
       "\\begin{tabular}{l}\n",
       " sum(betrag)\\\\\n",
       " <dbl>\\\\\n",
       "\\hline\n",
       "\t 1231886\\\\\n",
       "\\end{tabular}\n"
      ],
      "text/markdown": [
       "\n",
       "A tibble: 1 × 1\n",
       "\n",
       "| sum(betrag) &lt;dbl&gt; |\n",
       "|---|\n",
       "| 1231886 |\n",
       "\n"
      ],
      "text/plain": [
       "  sum(betrag)\n",
       "1 1231886    "
      ]
     },
     "metadata": {},
     "output_type": "display_data"
    }
   ],
   "source": [
    "# Summen über Abrechnugnsmonate\n",
    "sum_abr_mon <- summarise(abr_mon |>  as_tibble(), across(everything(), ~ sum(.x, na.rm = TRUE)))\n",
    "sum_lst <- pivot_longer(sum_abr_mon, everything(), names_to = \"abrechnungsmonat\", values_to = \"betrag\", names_prefix = \"V\")\n",
    "sum_lst\n",
    "sum_lst |> filter(abrechnungsmonat > 4) |> summarise(sum(betrag))"
   ]
  },
  {
   "cell_type": "code",
   "execution_count": null,
   "metadata": {
    "vscode": {
     "languageId": "r"
    }
   },
   "outputs": [],
   "source": []
  }
 ],
 "metadata": {
  "kernelspec": {
   "display_name": "R",
   "language": "R",
   "name": "ir"
  },
  "language_info": {
   "codemirror_mode": "r",
   "file_extension": ".r",
   "mimetype": "text/x-r-source",
   "name": "R",
   "pygments_lexer": "r",
   "version": "4.2.2"
  },
  "orig_nbformat": 4
 },
 "nbformat": 4,
 "nbformat_minor": 2
}
