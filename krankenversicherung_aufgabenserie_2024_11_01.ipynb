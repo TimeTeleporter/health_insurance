{
 "cells": [
  {
   "cell_type": "markdown",
   "metadata": {},
   "source": [
    "# Krankenversicherung / Aufgabenserie vom 01.11.2024\n",
    "\n",
    "## 1. Rückstellungsberechnung mit Chain-Ladder\n",
    "\n",
    "Gegeben sei das folgende Abwicklungsdreieck mit den im Behandlungsmonat i angefallenen und im Abrechnugnsmonat k bezahlten Leistungen $S_{i,k}$:\n",
    "\n",
    "|                   | Abrechnungs-monat k |        |        |        |\n",
    "| ----------------- | ------------------- | ------ | ------ | ------ |\n",
    "| Behandlungs-monat | 1                   | 2      | 3      | 4      |\n",
    "| 1                 | 58000               | 276100 | 111700 | 20400  |\n",
    "| 2                 |                     | 100900 | 480319 | 194319 |\n",
    "| 3                 |                     |        | 120800 | 575050 |\n",
    "| 4                 |                     |        |        | 130900 |\n",
    "\n",
    "a) Berechnen Sie den Rückstellungsbedarf mit Hilfe des Chain-Ladder Verfahrens. "
   ]
  },
  {
   "cell_type": "code",
   "execution_count": 1,
   "metadata": {
    "vscode": {
     "languageId": "r"
    }
   },
   "outputs": [
    {
     "name": "stderr",
     "output_type": "stream",
     "text": [
      "Warning message:\n",
      "\"Paket 'tidyverse' wurde unter R Version 4.2.3 erstellt\"\n",
      "Warning message:\n",
      "\"Paket 'ggplot2' wurde unter R Version 4.2.3 erstellt\"\n",
      "Warning message:\n",
      "\"Paket 'tibble' wurde unter R Version 4.2.3 erstellt\"\n",
      "Warning message:\n",
      "\"Paket 'tidyr' wurde unter R Version 4.2.3 erstellt\"\n",
      "Warning message:\n",
      "\"Paket 'readr' wurde unter R Version 4.2.3 erstellt\"\n",
      "Warning message:\n",
      "\"Paket 'purrr' wurde unter R Version 4.2.3 erstellt\"\n",
      "Warning message:\n",
      "\"Paket 'dplyr' wurde unter R Version 4.2.3 erstellt\"\n",
      "Warning message:\n",
      "\"Paket 'stringr' wurde unter R Version 4.2.3 erstellt\"\n",
      "Warning message:\n",
      "\"Paket 'forcats' wurde unter R Version 4.2.3 erstellt\"\n",
      "Warning message:\n",
      "\"Paket 'lubridate' wurde unter R Version 4.2.3 erstellt\"\n",
      "── \u001b[1mAttaching core tidyverse packages\u001b[22m ──────────────────────── tidyverse 2.0.0 ──\n",
      "\u001b[32m✔\u001b[39m \u001b[34mdplyr    \u001b[39m 1.1.4     \u001b[32m✔\u001b[39m \u001b[34mreadr    \u001b[39m 2.1.5\n",
      "\u001b[32m✔\u001b[39m \u001b[34mforcats  \u001b[39m 1.0.0     \u001b[32m✔\u001b[39m \u001b[34mstringr  \u001b[39m 1.5.1\n",
      "\u001b[32m✔\u001b[39m \u001b[34mggplot2  \u001b[39m 3.5.1     \u001b[32m✔\u001b[39m \u001b[34mtibble   \u001b[39m 3.2.1\n",
      "\u001b[32m✔\u001b[39m \u001b[34mlubridate\u001b[39m 1.9.3     \u001b[32m✔\u001b[39m \u001b[34mtidyr    \u001b[39m 1.3.1\n",
      "\u001b[32m✔\u001b[39m \u001b[34mpurrr    \u001b[39m 1.0.2     \n",
      "── \u001b[1mConflicts\u001b[22m ────────────────────────────────────────── tidyverse_conflicts() ──\n",
      "\u001b[31m✖\u001b[39m \u001b[34mdplyr\u001b[39m::\u001b[32mfilter()\u001b[39m masks \u001b[34mstats\u001b[39m::filter()\n",
      "\u001b[31m✖\u001b[39m \u001b[34mdplyr\u001b[39m::\u001b[32mlag()\u001b[39m    masks \u001b[34mstats\u001b[39m::lag()\n",
      "\u001b[36mℹ\u001b[39m Use the conflicted package (\u001b[3m\u001b[34m<http://conflicted.r-lib.org/>\u001b[39m\u001b[23m) to force all conflicts to become errors\n"
     ]
    }
   ],
   "source": [
    "library(tidyverse, quietly = TRUE, warn.conflicts = FALSE)"
   ]
  },
  {
   "cell_type": "code",
   "execution_count": 2,
   "metadata": {
    "vscode": {
     "languageId": "r"
    }
   },
   "outputs": [
    {
     "data": {
      "text/html": [
       "<table class=\"dataframe\">\n",
       "<caption>A matrix: 4 × 4 of type dbl</caption>\n",
       "<tbody>\n",
       "\t<tr><td>58000</td><td>276100</td><td>111700</td><td> 20400</td></tr>\n",
       "\t<tr><td>    0</td><td>100900</td><td>480319</td><td>194319</td></tr>\n",
       "\t<tr><td>    0</td><td>     0</td><td>120800</td><td>575050</td></tr>\n",
       "\t<tr><td>    0</td><td>     0</td><td>     0</td><td>130900</td></tr>\n",
       "</tbody>\n",
       "</table>\n"
      ],
      "text/latex": [
       "A matrix: 4 × 4 of type dbl\n",
       "\\begin{tabular}{llll}\n",
       "\t 58000 & 276100 & 111700 &  20400\\\\\n",
       "\t     0 & 100900 & 480319 & 194319\\\\\n",
       "\t     0 &      0 & 120800 & 575050\\\\\n",
       "\t     0 &      0 &      0 & 130900\\\\\n",
       "\\end{tabular}\n"
      ],
      "text/markdown": [
       "\n",
       "A matrix: 4 × 4 of type dbl\n",
       "\n",
       "| 58000 | 276100 | 111700 |  20400 |\n",
       "|     0 | 100900 | 480319 | 194319 |\n",
       "|     0 |      0 | 120800 | 575050 |\n",
       "|     0 |      0 |      0 | 130900 |\n",
       "\n"
      ],
      "text/plain": [
       "     [,1]  [,2]   [,3]   [,4]  \n",
       "[1,] 58000 276100 111700  20400\n",
       "[2,]     0 100900 480319 194319\n",
       "[3,]     0      0 120800 575050\n",
       "[4,]     0      0      0 130900"
      ]
     },
     "metadata": {},
     "output_type": "display_data"
    }
   ],
   "source": [
    "# Daten laden\n",
    "tria_beh_mon <- c(\n",
    "\tc(58000, 276100, 111700, 20400),\n",
    "\tc(0, 100900, 480319, 194319),\n",
    "\tc(0, 0, 120800, 575050),\n",
    "\tc(0, 0, 0, 130900)# * 2\n",
    ") |>\n",
    "\tmatrix(nrow = 4) |>\n",
    "\tt()\n",
    "\n",
    "tria_beh_mon"
   ]
  },
  {
   "cell_type": "code",
   "execution_count": 3,
   "metadata": {
    "vscode": {
     "languageId": "r"
    }
   },
   "outputs": [
    {
     "data": {
      "text/html": [
       "<table class=\"dataframe\">\n",
       "<caption>A matrix: 4 × 4 of type dbl</caption>\n",
       "<tbody>\n",
       "\t<tr><td> 58000</td><td>276100</td><td>111700</td><td>20400</td></tr>\n",
       "\t<tr><td>100900</td><td>480319</td><td>194319</td><td>   NA</td></tr>\n",
       "\t<tr><td>120800</td><td>575050</td><td>    NA</td><td>   NA</td></tr>\n",
       "\t<tr><td>130900</td><td>    NA</td><td>    NA</td><td>   NA</td></tr>\n",
       "</tbody>\n",
       "</table>\n"
      ],
      "text/latex": [
       "A matrix: 4 × 4 of type dbl\n",
       "\\begin{tabular}{llll}\n",
       "\t  58000 & 276100 & 111700 & 20400\\\\\n",
       "\t 100900 & 480319 & 194319 &    NA\\\\\n",
       "\t 120800 & 575050 &     NA &    NA\\\\\n",
       "\t 130900 &     NA &     NA &    NA\\\\\n",
       "\\end{tabular}\n"
      ],
      "text/markdown": [
       "\n",
       "A matrix: 4 × 4 of type dbl\n",
       "\n",
       "|  58000 | 276100 | 111700 | 20400 |\n",
       "| 100900 | 480319 | 194319 |    NA |\n",
       "| 120800 | 575050 |     NA |    NA |\n",
       "| 130900 |     NA |     NA |    NA |\n",
       "\n"
      ],
      "text/plain": [
       "     [,1]   [,2]   [,3]   [,4] \n",
       "[1,]  58000 276100 111700 20400\n",
       "[2,] 100900 480319 194319    NA\n",
       "[3,] 120800 575050     NA    NA\n",
       "[4,] 130900     NA     NA    NA"
      ]
     },
     "metadata": {},
     "output_type": "display_data"
    }
   ],
   "source": [
    "# In timelag-Ansicht wechseln\n",
    "tria_rel <- tria_beh_mon\n",
    "for (i in 1:nrow(tria_rel)) tria_rel[i,] <- lead(tria_rel[i,], i - 1)\n",
    "tria_rel"
   ]
  },
  {
   "cell_type": "code",
   "execution_count": 4,
   "metadata": {
    "vscode": {
     "languageId": "r"
    }
   },
   "outputs": [
    {
     "data": {
      "text/html": [
       "<table class=\"dataframe\">\n",
       "<caption>A matrix: 4 × 4 of type dbl</caption>\n",
       "<tbody>\n",
       "\t<tr><td> 58000</td><td>334100</td><td>445800</td><td>466200</td></tr>\n",
       "\t<tr><td>100900</td><td>581219</td><td>775538</td><td>    NA</td></tr>\n",
       "\t<tr><td>120800</td><td>695850</td><td>    NA</td><td>    NA</td></tr>\n",
       "\t<tr><td>130900</td><td>    NA</td><td>    NA</td><td>    NA</td></tr>\n",
       "</tbody>\n",
       "</table>\n"
      ],
      "text/latex": [
       "A matrix: 4 × 4 of type dbl\n",
       "\\begin{tabular}{llll}\n",
       "\t  58000 & 334100 & 445800 & 466200\\\\\n",
       "\t 100900 & 581219 & 775538 &     NA\\\\\n",
       "\t 120800 & 695850 &     NA &     NA\\\\\n",
       "\t 130900 &     NA &     NA &     NA\\\\\n",
       "\\end{tabular}\n"
      ],
      "text/markdown": [
       "\n",
       "A matrix: 4 × 4 of type dbl\n",
       "\n",
       "|  58000 | 334100 | 445800 | 466200 |\n",
       "| 100900 | 581219 | 775538 |     NA |\n",
       "| 120800 | 695850 |     NA |     NA |\n",
       "| 130900 |     NA |     NA |     NA |\n",
       "\n"
      ],
      "text/plain": [
       "     [,1]   [,2]   [,3]   [,4]  \n",
       "[1,]  58000 334100 445800 466200\n",
       "[2,] 100900 581219 775538     NA\n",
       "[3,] 120800 695850     NA     NA\n",
       "[4,] 130900     NA     NA     NA"
      ]
     },
     "metadata": {},
     "output_type": "display_data"
    }
   ],
   "source": [
    "# Kumulierte Ansicht\n",
    "tria_kum <- tria_rel\n",
    "for (j in 2:ncol(tria_kum)) tria_kum[,j] <- tria_kum[,j] + tria_kum[,j - 1]\n",
    "tria_kum"
   ]
  },
  {
   "cell_type": "code",
   "execution_count": 5,
   "metadata": {
    "vscode": {
     "languageId": "r"
    }
   },
   "outputs": [
    {
     "data": {
      "text/html": [
       "<style>\n",
       ".list-inline {list-style: none; margin:0; padding: 0}\n",
       ".list-inline>li {display: inline-block}\n",
       ".list-inline>li:not(:last-child)::after {content: \"\\00b7\"; padding: 0 .5ex}\n",
       "</style>\n",
       "<ol class=list-inline><li>5.76034680014301</li><li>1.33433043561862</li><li>1.04576043068641</li></ol>\n"
      ],
      "text/latex": [
       "\\begin{enumerate*}\n",
       "\\item 5.76034680014301\n",
       "\\item 1.33433043561862\n",
       "\\item 1.04576043068641\n",
       "\\end{enumerate*}\n"
      ],
      "text/markdown": [
       "1. 5.76034680014301\n",
       "2. 1.33433043561862\n",
       "3. 1.04576043068641\n",
       "\n",
       "\n"
      ],
      "text/plain": [
       "[1] 5.760347 1.334330 1.045760"
      ]
     },
     "metadata": {},
     "output_type": "display_data"
    }
   ],
   "source": [
    "# Faktoren berechnen\n",
    "tria_kum_prev <- tria_kum\n",
    "tria_kum_prev[!is.na(tria_kum_prev)] <- 1\n",
    "for (i in 1:nrow(tria_kum_prev)) tria_kum_prev[i,] <- lead(tria_kum_prev[i,], 1)\n",
    "tria_kum_prev <- tria_kum_prev * tria_kum\n",
    "\n",
    "factors <- c()\n",
    "for (j in 2:ncol(tria_kum)) {\n",
    "\tsum_prev <- sum(tria_kum_prev[,j - 1], na.rm = TRUE)\n",
    "\tsum_base <- sum(tria_kum[,j], na.rm = TRUE)\n",
    "\tfactors <- append(factors, sum_base / sum_prev)\n",
    "}\n",
    "factors"
   ]
  },
  {
   "cell_type": "code",
   "execution_count": 6,
   "metadata": {
    "vscode": {
     "languageId": "r"
    }
   },
   "outputs": [
    {
     "data": {
      "text/html": [
       "<table class=\"dataframe\">\n",
       "<caption>A matrix: 4 × 4 of type dbl</caption>\n",
       "<tbody>\n",
       "\t<tr><td> 58000</td><td>334100.0</td><td> 445800.0</td><td> 466200.0</td></tr>\n",
       "\t<tr><td>100900</td><td>581219.0</td><td> 775538.0</td><td> 811027.0</td></tr>\n",
       "\t<tr><td>120800</td><td>695850.0</td><td> 928493.8</td><td> 970982.1</td></tr>\n",
       "\t<tr><td>130900</td><td>754029.4</td><td>1006124.4</td><td>1052165.1</td></tr>\n",
       "</tbody>\n",
       "</table>\n"
      ],
      "text/latex": [
       "A matrix: 4 × 4 of type dbl\n",
       "\\begin{tabular}{llll}\n",
       "\t  58000 & 334100.0 &  445800.0 &  466200.0\\\\\n",
       "\t 100900 & 581219.0 &  775538.0 &  811027.0\\\\\n",
       "\t 120800 & 695850.0 &  928493.8 &  970982.1\\\\\n",
       "\t 130900 & 754029.4 & 1006124.4 & 1052165.1\\\\\n",
       "\\end{tabular}\n"
      ],
      "text/markdown": [
       "\n",
       "A matrix: 4 × 4 of type dbl\n",
       "\n",
       "|  58000 | 334100.0 |  445800.0 |  466200.0 |\n",
       "| 100900 | 581219.0 |  775538.0 |  811027.0 |\n",
       "| 120800 | 695850.0 |  928493.8 |  970982.1 |\n",
       "| 130900 | 754029.4 | 1006124.4 | 1052165.1 |\n",
       "\n"
      ],
      "text/plain": [
       "     [,1]   [,2]     [,3]      [,4]     \n",
       "[1,]  58000 334100.0  445800.0  466200.0\n",
       "[2,] 100900 581219.0  775538.0  811027.0\n",
       "[3,] 120800 695850.0  928493.8  970982.1\n",
       "[4,] 130900 754029.4 1006124.4 1052165.1"
      ]
     },
     "metadata": {},
     "output_type": "display_data"
    }
   ],
   "source": [
    "# Abrechnungsquadrat rechnen\n",
    "quadr_kum <- tria_kum\n",
    "for (j in 2:ncol(quadr_kum)) quadr_kum[,j] <- if_else(is.na(quadr_kum[,j]), factors[j - 1] * quadr_kum[,j - 1], quadr_kum[,j])\n",
    "quadr_kum"
   ]
  },
  {
   "cell_type": "code",
   "execution_count": 7,
   "metadata": {
    "vscode": {
     "languageId": "r"
    }
   },
   "outputs": [
    {
     "data": {
      "text/html": [
       "<table class=\"dataframe\">\n",
       "<caption>A matrix: 4 × 4 of type dbl</caption>\n",
       "<tbody>\n",
       "\t<tr><td> 58000</td><td>276100.0</td><td>111700.0</td><td>20400.00</td></tr>\n",
       "\t<tr><td>100900</td><td>480319.0</td><td>194319.0</td><td>35488.95</td></tr>\n",
       "\t<tr><td>120800</td><td>575050.0</td><td>232643.8</td><td>42488.28</td></tr>\n",
       "\t<tr><td>130900</td><td>623129.4</td><td>252095.0</td><td>46040.68</td></tr>\n",
       "</tbody>\n",
       "</table>\n"
      ],
      "text/latex": [
       "A matrix: 4 × 4 of type dbl\n",
       "\\begin{tabular}{llll}\n",
       "\t  58000 & 276100.0 & 111700.0 & 20400.00\\\\\n",
       "\t 100900 & 480319.0 & 194319.0 & 35488.95\\\\\n",
       "\t 120800 & 575050.0 & 232643.8 & 42488.28\\\\\n",
       "\t 130900 & 623129.4 & 252095.0 & 46040.68\\\\\n",
       "\\end{tabular}\n"
      ],
      "text/markdown": [
       "\n",
       "A matrix: 4 × 4 of type dbl\n",
       "\n",
       "|  58000 | 276100.0 | 111700.0 | 20400.00 |\n",
       "| 100900 | 480319.0 | 194319.0 | 35488.95 |\n",
       "| 120800 | 575050.0 | 232643.8 | 42488.28 |\n",
       "| 130900 | 623129.4 | 252095.0 | 46040.68 |\n",
       "\n"
      ],
      "text/plain": [
       "     [,1]   [,2]     [,3]     [,4]    \n",
       "[1,]  58000 276100.0 111700.0 20400.00\n",
       "[2,] 100900 480319.0 194319.0 35488.95\n",
       "[3,] 120800 575050.0 232643.8 42488.28\n",
       "[4,] 130900 623129.4 252095.0 46040.68"
      ]
     },
     "metadata": {},
     "output_type": "display_data"
    }
   ],
   "source": [
    "# nicht kumulierte Darstellung\n",
    "quadr <- quadr_kum\n",
    "for (j in 2:ncol(quadr)) quadr[,j] <- quadr_kum[,j] - quadr_kum[,j - 1]\n",
    "quadr"
   ]
  },
  {
   "cell_type": "code",
   "execution_count": 8,
   "metadata": {
    "vscode": {
     "languageId": "r"
    }
   },
   "outputs": [
    {
     "data": {
      "text/html": [
       "<table class=\"dataframe\">\n",
       "<caption>A matrix: 4 × 7 of type dbl</caption>\n",
       "<tbody>\n",
       "\t<tr><td>58000</td><td>276100</td><td>111700</td><td> 20400</td><td>       NA</td><td>       NA</td><td>      NA</td></tr>\n",
       "\t<tr><td>   NA</td><td>100900</td><td>480319</td><td>194319</td><td> 35488.95</td><td>       NA</td><td>      NA</td></tr>\n",
       "\t<tr><td>   NA</td><td>    NA</td><td>120800</td><td>575050</td><td>232643.83</td><td> 42488.28</td><td>      NA</td></tr>\n",
       "\t<tr><td>   NA</td><td>    NA</td><td>    NA</td><td>130900</td><td>623129.40</td><td>252094.98</td><td>46040.68</td></tr>\n",
       "</tbody>\n",
       "</table>\n"
      ],
      "text/latex": [
       "A matrix: 4 × 7 of type dbl\n",
       "\\begin{tabular}{lllllll}\n",
       "\t 58000 & 276100 & 111700 &  20400 &        NA &        NA &       NA\\\\\n",
       "\t    NA & 100900 & 480319 & 194319 &  35488.95 &        NA &       NA\\\\\n",
       "\t    NA &     NA & 120800 & 575050 & 232643.83 &  42488.28 &       NA\\\\\n",
       "\t    NA &     NA &     NA & 130900 & 623129.40 & 252094.98 & 46040.68\\\\\n",
       "\\end{tabular}\n"
      ],
      "text/markdown": [
       "\n",
       "A matrix: 4 × 7 of type dbl\n",
       "\n",
       "| 58000 | 276100 | 111700 |  20400 |        NA |        NA |       NA |\n",
       "|    NA | 100900 | 480319 | 194319 |  35488.95 |        NA |       NA |\n",
       "|    NA |     NA | 120800 | 575050 | 232643.83 |  42488.28 |       NA |\n",
       "|    NA |     NA |     NA | 130900 | 623129.40 | 252094.98 | 46040.68 |\n",
       "\n"
      ],
      "text/plain": [
       "     [,1]  [,2]   [,3]   [,4]   [,5]      [,6]      [,7]    \n",
       "[1,] 58000 276100 111700  20400        NA        NA       NA\n",
       "[2,]    NA 100900 480319 194319  35488.95        NA       NA\n",
       "[3,]    NA     NA 120800 575050 232643.83  42488.28       NA\n",
       "[4,]    NA     NA     NA 130900 623129.40 252094.98 46040.68"
      ]
     },
     "metadata": {},
     "output_type": "display_data"
    }
   ],
   "source": [
    "# Ansicht nach abrechnungsmonaten\n",
    "abr_mon <- cbind(quadr, matrix(NA_real_,4,3))\n",
    "for (i in 1:nrow(abr_mon)) abr_mon[i,] <- lag(abr_mon[i,], i - 1)\n",
    "abr_mon"
   ]
  },
  {
   "cell_type": "code",
   "execution_count": 9,
   "metadata": {
    "vscode": {
     "languageId": "r"
    }
   },
   "outputs": [
    {
     "name": "stderr",
     "output_type": "stream",
     "text": [
      "Warning message:\n",
      "\"\u001b[1m\u001b[22mThe `x` argument of `as_tibble.matrix()` must have unique column names if\n",
      "`.name_repair` is omitted as of tibble 2.0.0.\n",
      "\u001b[36mℹ\u001b[39m Using compatibility `.name_repair`.\"\n"
     ]
    },
    {
     "data": {
      "text/html": [
       "<table class=\"dataframe\">\n",
       "<caption>A tibble: 16 × 3</caption>\n",
       "<thead>\n",
       "\t<tr><th scope=col>behandlungsmonat</th><th scope=col>abrechnungsmonat</th><th scope=col>betrag</th></tr>\n",
       "\t<tr><th scope=col>&lt;int&gt;</th><th scope=col>&lt;int&gt;</th><th scope=col>&lt;dbl&gt;</th></tr>\n",
       "</thead>\n",
       "<tbody>\n",
       "\t<tr><td>1</td><td>1</td><td> 58000.00</td></tr>\n",
       "\t<tr><td>1</td><td>2</td><td>276100.00</td></tr>\n",
       "\t<tr><td>1</td><td>3</td><td>111700.00</td></tr>\n",
       "\t<tr><td>1</td><td>4</td><td> 20400.00</td></tr>\n",
       "\t<tr><td>2</td><td>2</td><td>100900.00</td></tr>\n",
       "\t<tr><td>2</td><td>3</td><td>480319.00</td></tr>\n",
       "\t<tr><td>2</td><td>4</td><td>194319.00</td></tr>\n",
       "\t<tr><td>2</td><td>5</td><td> 35488.95</td></tr>\n",
       "\t<tr><td>3</td><td>3</td><td>120800.00</td></tr>\n",
       "\t<tr><td>3</td><td>4</td><td>575050.00</td></tr>\n",
       "\t<tr><td>3</td><td>5</td><td>232643.83</td></tr>\n",
       "\t<tr><td>3</td><td>6</td><td> 42488.28</td></tr>\n",
       "\t<tr><td>4</td><td>4</td><td>130900.00</td></tr>\n",
       "\t<tr><td>4</td><td>5</td><td>623129.40</td></tr>\n",
       "\t<tr><td>4</td><td>6</td><td>252094.98</td></tr>\n",
       "\t<tr><td>4</td><td>7</td><td> 46040.68</td></tr>\n",
       "</tbody>\n",
       "</table>\n"
      ],
      "text/latex": [
       "A tibble: 16 × 3\n",
       "\\begin{tabular}{lll}\n",
       " behandlungsmonat & abrechnungsmonat & betrag\\\\\n",
       " <int> & <int> & <dbl>\\\\\n",
       "\\hline\n",
       "\t 1 & 1 &  58000.00\\\\\n",
       "\t 1 & 2 & 276100.00\\\\\n",
       "\t 1 & 3 & 111700.00\\\\\n",
       "\t 1 & 4 &  20400.00\\\\\n",
       "\t 2 & 2 & 100900.00\\\\\n",
       "\t 2 & 3 & 480319.00\\\\\n",
       "\t 2 & 4 & 194319.00\\\\\n",
       "\t 2 & 5 &  35488.95\\\\\n",
       "\t 3 & 3 & 120800.00\\\\\n",
       "\t 3 & 4 & 575050.00\\\\\n",
       "\t 3 & 5 & 232643.83\\\\\n",
       "\t 3 & 6 &  42488.28\\\\\n",
       "\t 4 & 4 & 130900.00\\\\\n",
       "\t 4 & 5 & 623129.40\\\\\n",
       "\t 4 & 6 & 252094.98\\\\\n",
       "\t 4 & 7 &  46040.68\\\\\n",
       "\\end{tabular}\n"
      ],
      "text/markdown": [
       "\n",
       "A tibble: 16 × 3\n",
       "\n",
       "| behandlungsmonat &lt;int&gt; | abrechnungsmonat &lt;int&gt; | betrag &lt;dbl&gt; |\n",
       "|---|---|---|\n",
       "| 1 | 1 |  58000.00 |\n",
       "| 1 | 2 | 276100.00 |\n",
       "| 1 | 3 | 111700.00 |\n",
       "| 1 | 4 |  20400.00 |\n",
       "| 2 | 2 | 100900.00 |\n",
       "| 2 | 3 | 480319.00 |\n",
       "| 2 | 4 | 194319.00 |\n",
       "| 2 | 5 |  35488.95 |\n",
       "| 3 | 3 | 120800.00 |\n",
       "| 3 | 4 | 575050.00 |\n",
       "| 3 | 5 | 232643.83 |\n",
       "| 3 | 6 |  42488.28 |\n",
       "| 4 | 4 | 130900.00 |\n",
       "| 4 | 5 | 623129.40 |\n",
       "| 4 | 6 | 252094.98 |\n",
       "| 4 | 7 |  46040.68 |\n",
       "\n"
      ],
      "text/plain": [
       "   behandlungsmonat abrechnungsmonat betrag   \n",
       "1  1                1                 58000.00\n",
       "2  1                2                276100.00\n",
       "3  1                3                111700.00\n",
       "4  1                4                 20400.00\n",
       "5  2                2                100900.00\n",
       "6  2                3                480319.00\n",
       "7  2                4                194319.00\n",
       "8  2                5                 35488.95\n",
       "9  3                3                120800.00\n",
       "10 3                4                575050.00\n",
       "11 3                5                232643.83\n",
       "12 3                6                 42488.28\n",
       "13 4                4                130900.00\n",
       "14 4                5                623129.40\n",
       "15 4                6                252094.98\n",
       "16 4                7                 46040.68"
      ]
     },
     "metadata": {},
     "output_type": "display_data"
    },
    {
     "data": {
      "text/html": [
       "<table class=\"dataframe\">\n",
       "<caption>A tibble: 7 × 2</caption>\n",
       "<thead>\n",
       "\t<tr><th scope=col>abrechnungsmonat</th><th scope=col>betrag</th></tr>\n",
       "\t<tr><th scope=col>&lt;int&gt;</th><th scope=col>&lt;dbl&gt;</th></tr>\n",
       "</thead>\n",
       "<tbody>\n",
       "\t<tr><td>1</td><td> 58000.00</td></tr>\n",
       "\t<tr><td>2</td><td>377000.00</td></tr>\n",
       "\t<tr><td>3</td><td>712819.00</td></tr>\n",
       "\t<tr><td>4</td><td>920669.00</td></tr>\n",
       "\t<tr><td>5</td><td>891262.18</td></tr>\n",
       "\t<tr><td>6</td><td>294583.25</td></tr>\n",
       "\t<tr><td>7</td><td> 46040.68</td></tr>\n",
       "</tbody>\n",
       "</table>\n"
      ],
      "text/latex": [
       "A tibble: 7 × 2\n",
       "\\begin{tabular}{ll}\n",
       " abrechnungsmonat & betrag\\\\\n",
       " <int> & <dbl>\\\\\n",
       "\\hline\n",
       "\t 1 &  58000.00\\\\\n",
       "\t 2 & 377000.00\\\\\n",
       "\t 3 & 712819.00\\\\\n",
       "\t 4 & 920669.00\\\\\n",
       "\t 5 & 891262.18\\\\\n",
       "\t 6 & 294583.25\\\\\n",
       "\t 7 &  46040.68\\\\\n",
       "\\end{tabular}\n"
      ],
      "text/markdown": [
       "\n",
       "A tibble: 7 × 2\n",
       "\n",
       "| abrechnungsmonat &lt;int&gt; | betrag &lt;dbl&gt; |\n",
       "|---|---|\n",
       "| 1 |  58000.00 |\n",
       "| 2 | 377000.00 |\n",
       "| 3 | 712819.00 |\n",
       "| 4 | 920669.00 |\n",
       "| 5 | 891262.18 |\n",
       "| 6 | 294583.25 |\n",
       "| 7 |  46040.68 |\n",
       "\n"
      ],
      "text/plain": [
       "  abrechnungsmonat betrag   \n",
       "1 1                 58000.00\n",
       "2 2                377000.00\n",
       "3 3                712819.00\n",
       "4 4                920669.00\n",
       "5 5                891262.18\n",
       "6 6                294583.25\n",
       "7 7                 46040.68"
      ]
     },
     "metadata": {},
     "output_type": "display_data"
    },
    {
     "data": {
      "text/html": [
       "<table class=\"dataframe\">\n",
       "<caption>A tibble: 1 × 1</caption>\n",
       "<thead>\n",
       "\t<tr><th scope=col>betrag</th></tr>\n",
       "\t<tr><th scope=col>&lt;dbl&gt;</th></tr>\n",
       "</thead>\n",
       "<tbody>\n",
       "\t<tr><td>1231886</td></tr>\n",
       "</tbody>\n",
       "</table>\n"
      ],
      "text/latex": [
       "A tibble: 1 × 1\n",
       "\\begin{tabular}{l}\n",
       " betrag\\\\\n",
       " <dbl>\\\\\n",
       "\\hline\n",
       "\t 1231886\\\\\n",
       "\\end{tabular}\n"
      ],
      "text/markdown": [
       "\n",
       "A tibble: 1 × 1\n",
       "\n",
       "| betrag &lt;dbl&gt; |\n",
       "|---|\n",
       "| 1231886 |\n",
       "\n"
      ],
      "text/plain": [
       "  betrag \n",
       "1 1231886"
      ]
     },
     "metadata": {},
     "output_type": "display_data"
    }
   ],
   "source": [
    "# Summen über Abrechnugnsmonate\n",
    "abr_mon_tbl <- abr_mon |>\n",
    "\tas_tibble() |>\n",
    "\tmutate(behandlungsmonat = 1:n()) |>\n",
    "\tpivot_longer(\n",
    "\t\tstarts_with(\"V\"),\n",
    "\t\tnames_to = \"abrechnungsmonat\",\n",
    "\t\tvalues_to = \"betrag\",\n",
    "\t\tnames_prefix = \"V\"\n",
    "\t) |>\n",
    "\tmutate(across(behandlungsmonat | abrechnungsmonat, as.integer)) |>\n",
    "\tfilter(!is.na(betrag))\n",
    "\n",
    "abr_mon_tbl\n",
    "abr_mon_tbl |>\n",
    "\tgroup_by(abrechnungsmonat) |> \n",
    "\tsummarise(across(betrag, sum), .groups = \"drop\")\n",
    "abr_mon_tbl |>\n",
    "\tfilter(abrechnungsmonat > 4) |> \n",
    "\tsummarise(across(betrag, sum), .groups = \"drop\")"
   ]
  },
  {
   "cell_type": "markdown",
   "metadata": {},
   "source": [
    "> Somit müssen 1'231'886 Franken Rückstellungen gebildet werden.\n",
    "\n",
    "b) Angenommen in den darauffolgenden Behandlungsmonaten 5 und 6 fallen Leistungen von total 1'000'000 (Behandlungsmonat 5) bzw. 1'100'000 (Behandlungsmonat 6) an. Das Abwicklungsmuster bleibe dasselbe wie in den vorangehenden Monaten 1 bis 4. Wie viele Leistungen werden in den Abrechnungsmonaten 5 und 6 abgerechnet?\n",
    "\n",
    "> Die Faktoren `factors`, $\\phi_j$ bilden das kumulierte relative Abrechnungsvolumen gegenüber dem Vormonat ab. Gehen wir wieder davon aus, dass nach vier Monaten alle Leistungen abgerechnet sind, dann kann man die kumulierten Anteile der Abrechnung (*Quoten*) als Kehrwert der Faktoren bestimmen.\n",
    "\n",
    "$$\\gamma_j = \\gamma_{j + 1} / \\phi_{j + 1} \\text{ mit } \\gamma_n = 1$$"
   ]
  },
  {
   "cell_type": "code",
   "execution_count": 10,
   "metadata": {
    "vscode": {
     "languageId": "r"
    }
   },
   "outputs": [
    {
     "data": {
      "text/html": [
       "<style>\n",
       ".list-inline {list-style: none; margin:0; padding: 0}\n",
       ".list-inline>li {display: inline-block}\n",
       ".list-inline>li:not(:last-child)::after {content: \"\\00b7\"; padding: 0 .5ex}\n",
       "</style>\n",
       "<ol class=list-inline><li>0.124410138029197</li><li>0.716645540501836</li><li>0.956241956241956</li><li>1</li></ol>\n"
      ],
      "text/latex": [
       "\\begin{enumerate*}\n",
       "\\item 0.124410138029197\n",
       "\\item 0.716645540501836\n",
       "\\item 0.956241956241956\n",
       "\\item 1\n",
       "\\end{enumerate*}\n"
      ],
      "text/markdown": [
       "1. 0.124410138029197\n",
       "2. 0.716645540501836\n",
       "3. 0.956241956241956\n",
       "4. 1\n",
       "\n",
       "\n"
      ],
      "text/plain": [
       "[1] 0.1244101 0.7166455 0.9562420 1.0000000"
      ]
     },
     "metadata": {},
     "output_type": "display_data"
    }
   ],
   "source": [
    "# Abwicklungsquoten\n",
    "quotes <- c(1)\n",
    "for (j in (length(factors)):1) quotes <- append(quotes[1] / factors[j], quotes)\n",
    "quotes"
   ]
  },
  {
   "cell_type": "code",
   "execution_count": 11,
   "metadata": {
    "vscode": {
     "languageId": "r"
    }
   },
   "outputs": [
    {
     "data": {
      "text/html": [
       "<style>\n",
       ".list-inline {list-style: none; margin:0; padding: 0}\n",
       ".list-inline>li {display: inline-block}\n",
       ".list-inline>li:not(:last-child)::after {content: \"\\00b7\"; padding: 0 .5ex}\n",
       "</style>\n",
       "<ol class=list-inline><li>0.124410138029197</li><li>0.592235402472639</li><li>0.23959641574012</li><li>0.0437580437580438</li></ol>\n"
      ],
      "text/latex": [
       "\\begin{enumerate*}\n",
       "\\item 0.124410138029197\n",
       "\\item 0.592235402472639\n",
       "\\item 0.23959641574012\n",
       "\\item 0.0437580437580438\n",
       "\\end{enumerate*}\n"
      ],
      "text/markdown": [
       "1. 0.124410138029197\n",
       "2. 0.592235402472639\n",
       "3. 0.23959641574012\n",
       "4. 0.0437580437580438\n",
       "\n",
       "\n"
      ],
      "text/plain": [
       "[1] 0.12441014 0.59223540 0.23959642 0.04375804"
      ]
     },
     "metadata": {},
     "output_type": "display_data"
    }
   ],
   "source": [
    "# Abwicklungsanteile\n",
    "anteile <- quotes\n",
    "for (j in 2:length(quotes)) anteile[j] <- quotes[j] - quotes[j - 1]\n",
    "anteile"
   ]
  },
  {
   "cell_type": "markdown",
   "metadata": {},
   "source": [
    "> Damit werden von den 1'000'000 behandelten Leistungen im Monat 5 124'410 im Monat 5 und 592'235 im Monat 6 abgerechnet. Von den 1'100'000 behandelten Leistungen im Monat 6 werden 136'851 im Monat 6 abgerechnet."
   ]
  },
  {
   "cell_type": "code",
   "execution_count": 12,
   "metadata": {
    "vscode": {
     "languageId": "r"
    }
   },
   "outputs": [
    {
     "data": {
      "text/html": [
       "<table class=\"dataframe\">\n",
       "<caption>A tibble: 24 × 3</caption>\n",
       "<thead>\n",
       "\t<tr><th scope=col>behandlungsmonat</th><th scope=col>abrechnungsmonat</th><th scope=col>betrag</th></tr>\n",
       "\t<tr><th scope=col>&lt;dbl&gt;</th><th scope=col>&lt;int&gt;</th><th scope=col>&lt;dbl&gt;</th></tr>\n",
       "</thead>\n",
       "<tbody>\n",
       "\t<tr><td>1</td><td>1</td><td> 58000.00</td></tr>\n",
       "\t<tr><td>1</td><td>2</td><td>276100.00</td></tr>\n",
       "\t<tr><td>1</td><td>3</td><td>111700.00</td></tr>\n",
       "\t<tr><td>1</td><td>4</td><td> 20400.00</td></tr>\n",
       "\t<tr><td>2</td><td>2</td><td>100900.00</td></tr>\n",
       "\t<tr><td>2</td><td>3</td><td>480319.00</td></tr>\n",
       "\t<tr><td>2</td><td>4</td><td>194319.00</td></tr>\n",
       "\t<tr><td>2</td><td>5</td><td> 35488.95</td></tr>\n",
       "\t<tr><td>3</td><td>3</td><td>120800.00</td></tr>\n",
       "\t<tr><td>3</td><td>4</td><td>575050.00</td></tr>\n",
       "\t<tr><td>3</td><td>5</td><td>232643.83</td></tr>\n",
       "\t<tr><td>3</td><td>6</td><td> 42488.28</td></tr>\n",
       "\t<tr><td>4</td><td>4</td><td>130900.00</td></tr>\n",
       "\t<tr><td>4</td><td>5</td><td>623129.40</td></tr>\n",
       "\t<tr><td>4</td><td>6</td><td>252094.98</td></tr>\n",
       "\t<tr><td>4</td><td>7</td><td> 46040.68</td></tr>\n",
       "\t<tr><td>5</td><td>5</td><td>124410.14</td></tr>\n",
       "\t<tr><td>5</td><td>6</td><td>592235.40</td></tr>\n",
       "\t<tr><td>5</td><td>7</td><td>239596.42</td></tr>\n",
       "\t<tr><td>5</td><td>8</td><td> 43758.04</td></tr>\n",
       "\t<tr><td>6</td><td>6</td><td>136851.15</td></tr>\n",
       "\t<tr><td>6</td><td>7</td><td>651458.94</td></tr>\n",
       "\t<tr><td>6</td><td>8</td><td>263556.06</td></tr>\n",
       "\t<tr><td>6</td><td>9</td><td> 48133.85</td></tr>\n",
       "</tbody>\n",
       "</table>\n"
      ],
      "text/latex": [
       "A tibble: 24 × 3\n",
       "\\begin{tabular}{lll}\n",
       " behandlungsmonat & abrechnungsmonat & betrag\\\\\n",
       " <dbl> & <int> & <dbl>\\\\\n",
       "\\hline\n",
       "\t 1 & 1 &  58000.00\\\\\n",
       "\t 1 & 2 & 276100.00\\\\\n",
       "\t 1 & 3 & 111700.00\\\\\n",
       "\t 1 & 4 &  20400.00\\\\\n",
       "\t 2 & 2 & 100900.00\\\\\n",
       "\t 2 & 3 & 480319.00\\\\\n",
       "\t 2 & 4 & 194319.00\\\\\n",
       "\t 2 & 5 &  35488.95\\\\\n",
       "\t 3 & 3 & 120800.00\\\\\n",
       "\t 3 & 4 & 575050.00\\\\\n",
       "\t 3 & 5 & 232643.83\\\\\n",
       "\t 3 & 6 &  42488.28\\\\\n",
       "\t 4 & 4 & 130900.00\\\\\n",
       "\t 4 & 5 & 623129.40\\\\\n",
       "\t 4 & 6 & 252094.98\\\\\n",
       "\t 4 & 7 &  46040.68\\\\\n",
       "\t 5 & 5 & 124410.14\\\\\n",
       "\t 5 & 6 & 592235.40\\\\\n",
       "\t 5 & 7 & 239596.42\\\\\n",
       "\t 5 & 8 &  43758.04\\\\\n",
       "\t 6 & 6 & 136851.15\\\\\n",
       "\t 6 & 7 & 651458.94\\\\\n",
       "\t 6 & 8 & 263556.06\\\\\n",
       "\t 6 & 9 &  48133.85\\\\\n",
       "\\end{tabular}\n"
      ],
      "text/markdown": [
       "\n",
       "A tibble: 24 × 3\n",
       "\n",
       "| behandlungsmonat &lt;dbl&gt; | abrechnungsmonat &lt;int&gt; | betrag &lt;dbl&gt; |\n",
       "|---|---|---|\n",
       "| 1 | 1 |  58000.00 |\n",
       "| 1 | 2 | 276100.00 |\n",
       "| 1 | 3 | 111700.00 |\n",
       "| 1 | 4 |  20400.00 |\n",
       "| 2 | 2 | 100900.00 |\n",
       "| 2 | 3 | 480319.00 |\n",
       "| 2 | 4 | 194319.00 |\n",
       "| 2 | 5 |  35488.95 |\n",
       "| 3 | 3 | 120800.00 |\n",
       "| 3 | 4 | 575050.00 |\n",
       "| 3 | 5 | 232643.83 |\n",
       "| 3 | 6 |  42488.28 |\n",
       "| 4 | 4 | 130900.00 |\n",
       "| 4 | 5 | 623129.40 |\n",
       "| 4 | 6 | 252094.98 |\n",
       "| 4 | 7 |  46040.68 |\n",
       "| 5 | 5 | 124410.14 |\n",
       "| 5 | 6 | 592235.40 |\n",
       "| 5 | 7 | 239596.42 |\n",
       "| 5 | 8 |  43758.04 |\n",
       "| 6 | 6 | 136851.15 |\n",
       "| 6 | 7 | 651458.94 |\n",
       "| 6 | 8 | 263556.06 |\n",
       "| 6 | 9 |  48133.85 |\n",
       "\n"
      ],
      "text/plain": [
       "   behandlungsmonat abrechnungsmonat betrag   \n",
       "1  1                1                 58000.00\n",
       "2  1                2                276100.00\n",
       "3  1                3                111700.00\n",
       "4  1                4                 20400.00\n",
       "5  2                2                100900.00\n",
       "6  2                3                480319.00\n",
       "7  2                4                194319.00\n",
       "8  2                5                 35488.95\n",
       "9  3                3                120800.00\n",
       "10 3                4                575050.00\n",
       "11 3                5                232643.83\n",
       "12 3                6                 42488.28\n",
       "13 4                4                130900.00\n",
       "14 4                5                623129.40\n",
       "15 4                6                252094.98\n",
       "16 4                7                 46040.68\n",
       "17 5                5                124410.14\n",
       "18 5                6                592235.40\n",
       "19 5                7                239596.42\n",
       "20 5                8                 43758.04\n",
       "21 6                6                136851.15\n",
       "22 6                7                651458.94\n",
       "23 6                8                263556.06\n",
       "24 6                9                 48133.85"
      ]
     },
     "metadata": {},
     "output_type": "display_data"
    },
    {
     "data": {
      "text/html": [
       "<table class=\"dataframe\">\n",
       "<caption>A tibble: 9 × 2</caption>\n",
       "<thead>\n",
       "\t<tr><th scope=col>abrechnungsmonat</th><th scope=col>betrag</th></tr>\n",
       "\t<tr><th scope=col>&lt;int&gt;</th><th scope=col>&lt;dbl&gt;</th></tr>\n",
       "</thead>\n",
       "<tbody>\n",
       "\t<tr><td>1</td><td>  58000.00</td></tr>\n",
       "\t<tr><td>2</td><td> 377000.00</td></tr>\n",
       "\t<tr><td>3</td><td> 712819.00</td></tr>\n",
       "\t<tr><td>4</td><td> 920669.00</td></tr>\n",
       "\t<tr><td>5</td><td>1015672.32</td></tr>\n",
       "\t<tr><td>6</td><td>1023669.81</td></tr>\n",
       "\t<tr><td>7</td><td> 937096.04</td></tr>\n",
       "\t<tr><td>8</td><td> 307314.10</td></tr>\n",
       "\t<tr><td>9</td><td>  48133.85</td></tr>\n",
       "</tbody>\n",
       "</table>\n"
      ],
      "text/latex": [
       "A tibble: 9 × 2\n",
       "\\begin{tabular}{ll}\n",
       " abrechnungsmonat & betrag\\\\\n",
       " <int> & <dbl>\\\\\n",
       "\\hline\n",
       "\t 1 &   58000.00\\\\\n",
       "\t 2 &  377000.00\\\\\n",
       "\t 3 &  712819.00\\\\\n",
       "\t 4 &  920669.00\\\\\n",
       "\t 5 & 1015672.32\\\\\n",
       "\t 6 & 1023669.81\\\\\n",
       "\t 7 &  937096.04\\\\\n",
       "\t 8 &  307314.10\\\\\n",
       "\t 9 &   48133.85\\\\\n",
       "\\end{tabular}\n"
      ],
      "text/markdown": [
       "\n",
       "A tibble: 9 × 2\n",
       "\n",
       "| abrechnungsmonat &lt;int&gt; | betrag &lt;dbl&gt; |\n",
       "|---|---|\n",
       "| 1 |   58000.00 |\n",
       "| 2 |  377000.00 |\n",
       "| 3 |  712819.00 |\n",
       "| 4 |  920669.00 |\n",
       "| 5 | 1015672.32 |\n",
       "| 6 | 1023669.81 |\n",
       "| 7 |  937096.04 |\n",
       "| 8 |  307314.10 |\n",
       "| 9 |   48133.85 |\n",
       "\n"
      ],
      "text/plain": [
       "  abrechnungsmonat betrag    \n",
       "1 1                  58000.00\n",
       "2 2                 377000.00\n",
       "3 3                 712819.00\n",
       "4 4                 920669.00\n",
       "5 5                1015672.32\n",
       "6 6                1023669.81\n",
       "7 7                 937096.04\n",
       "8 8                 307314.10\n",
       "9 9                  48133.85"
      ]
     },
     "metadata": {},
     "output_type": "display_data"
    }
   ],
   "source": [
    "abr_mon_tbl_new <- abr_mon_tbl |>\n",
    "\tunion_all(\n",
    "\t\ttibble(\n",
    "\t\t\tbehandlungsmonat = 5,\n",
    "\t\t\tabrechnungsmonat = 5:8,\n",
    "\t\t\tbetrag = anteile * 1000000\n",
    "\t\t) \n",
    "\t) |>\n",
    "\tunion_all(\n",
    "\t\ttibble(\n",
    "\t\t\tbehandlungsmonat = 6,\n",
    "\t\t\tabrechnungsmonat = 6:9,\n",
    "\t\t\tbetrag = anteile * 1100000\n",
    "\t\t) \n",
    "\t)\n",
    "abr_mon_tbl_new\n",
    "abr_mon_tbl_new |> group_by(abrechnungsmonat) |> summarise(across(betrag, sum))"
   ]
  },
  {
   "cell_type": "markdown",
   "metadata": {},
   "source": [
    "c) Schildern Sie in ein paar wenigen Stichworten, wie sich Chain-Ladder nicht bloss als Algorithmus sondern auch als stochastisches Modell implementieren lässt. "
   ]
  }
 ],
 "metadata": {
  "kernelspec": {
   "display_name": "R",
   "language": "R",
   "name": "ir"
  },
  "language_info": {
   "codemirror_mode": "r",
   "file_extension": ".r",
   "mimetype": "text/x-r-source",
   "name": "R",
   "pygments_lexer": "r",
   "version": "4.2.2"
  },
  "orig_nbformat": 4
 },
 "nbformat": 4,
 "nbformat_minor": 2
}
